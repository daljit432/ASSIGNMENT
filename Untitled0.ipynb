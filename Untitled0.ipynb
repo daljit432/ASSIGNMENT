{
  "nbformat": 4,
  "nbformat_minor": 0,
  "metadata": {
    "colab": {
      "name": "Untitled0.ipynb",
      "provenance": [],
      "include_colab_link": true
    },
    "kernelspec": {
      "name": "python3",
      "display_name": "Python 3"
    },
    "language_info": {
      "name": "python"
    }
  },
  "cells": [
    {
      "cell_type": "markdown",
      "metadata": {
        "id": "view-in-github",
        "colab_type": "text"
      },
      "source": [
        "<a href=\"https://colab.research.google.com/github/daljit432/ASSIGNMENT/blob/master/Untitled0.ipynb\" target=\"_parent\"><img src=\"https://colab.research.google.com/assets/colab-badge.svg\" alt=\"Open In Colab\"/></a>"
      ]
    },
    {
      "cell_type": "code",
      "metadata": {
        "colab": {
          "base_uri": "https://localhost:8080/"
        },
        "id": "PgHn_zU9lRQN",
        "outputId": "30aecd30-9943-4129-a04d-509178f54590"
      },
      "source": [
        "1+3"
      ],
      "execution_count": null,
      "outputs": [
        {
          "output_type": "execute_result",
          "data": {
            "text/plain": [
              "4"
            ]
          },
          "metadata": {
            "tags": []
          },
          "execution_count": 2
        }
      ]
    },
    {
      "cell_type": "code",
      "metadata": {
        "id": "Z3NlY3w5V_0i",
        "outputId": "9b1fe193-a4bd-40a9-dd59-dd5306a2c360",
        "colab": {
          "base_uri": "https://localhost:8080/"
        }
      },
      "source": [
        "name = input(\"hii, what's is your name?\")\n",
        "print(\"nice too meet you\" + \"nikita\")\n",
        "age = (\"how old are you\")\n",
        "print(\"so, you are already\" + str(24) + \"years old,\" + name + \"!\")"
      ],
      "execution_count": 3,
      "outputs": [
        {
          "output_type": "stream",
          "text": [
            "hii, what's is your name?daljit\n",
            "nice too meet younikita\n",
            "so, you are already24years old,daljit!\n"
          ],
          "name": "stdout"
        }
      ]
    },
    {
      "cell_type": "code",
      "metadata": {
        "id": "ZMoXJ3qzXR1x",
        "outputId": "e90722de-5deb-4b66-8d8e-1dde53695acf",
        "colab": {
          "base_uri": "https://localhost:8080/"
        }
      },
      "source": [
        "# testing len()\n",
        "str1 = \"you looK pretty\"\n",
        "print(\"the length of the string is :\", len(str1))"
      ],
      "execution_count": 7,
      "outputs": [
        {
          "output_type": "stream",
          "text": [
            "the length of the string is : 15\n"
          ],
          "name": "stdout"
        }
      ]
    },
    {
      "cell_type": "code",
      "metadata": {
        "id": "_sYkFw4gZQ0o",
        "outputId": "fdfff79d-5694-453f-ce17-033b3425ebf6",
        "colab": {
          "base_uri": "https://localhost:8080/",
          "height": 357
        }
      },
      "source": [
        "age = [5,19,25,23,45]\n",
        "x= [15,19,25,23,45]\n",
        "def myfunc(x):\n",
        "  if x > 15:\n",
        "    return false\n",
        "  else:\n",
        "    return true\n",
        "\n",
        "adults = filter(myfunc(x), ages(25))\n",
        "\n",
        "for x in adults:\n",
        "  print(x)"
      ],
      "execution_count": 33,
      "outputs": [
        {
          "output_type": "error",
          "ename": "TypeError",
          "evalue": "ignored",
          "traceback": [
            "\u001b[0;31m---------------------------------------------------------------------------\u001b[0m",
            "\u001b[0;31mTypeError\u001b[0m                                 Traceback (most recent call last)",
            "\u001b[0;32m<ipython-input-33-a073ba61c9df>\u001b[0m in \u001b[0;36m<module>\u001b[0;34m()\u001b[0m\n\u001b[1;32m      7\u001b[0m     \u001b[0;32mreturn\u001b[0m \u001b[0mtrue\u001b[0m\u001b[0;34m\u001b[0m\u001b[0;34m\u001b[0m\u001b[0m\n\u001b[1;32m      8\u001b[0m \u001b[0;34m\u001b[0m\u001b[0m\n\u001b[0;32m----> 9\u001b[0;31m \u001b[0madults\u001b[0m \u001b[0;34m=\u001b[0m \u001b[0mfilter\u001b[0m\u001b[0;34m(\u001b[0m\u001b[0mmyfunc\u001b[0m\u001b[0;34m(\u001b[0m\u001b[0mx\u001b[0m\u001b[0;34m)\u001b[0m\u001b[0;34m,\u001b[0m \u001b[0mages\u001b[0m\u001b[0;34m(\u001b[0m\u001b[0;36m25\u001b[0m\u001b[0;34m)\u001b[0m\u001b[0;34m)\u001b[0m\u001b[0;34m\u001b[0m\u001b[0;34m\u001b[0m\u001b[0m\n\u001b[0m\u001b[1;32m     10\u001b[0m \u001b[0;34m\u001b[0m\u001b[0m\n\u001b[1;32m     11\u001b[0m \u001b[0;32mfor\u001b[0m \u001b[0mx\u001b[0m \u001b[0;32min\u001b[0m \u001b[0madults\u001b[0m\u001b[0;34m:\u001b[0m\u001b[0;34m\u001b[0m\u001b[0;34m\u001b[0m\u001b[0m\n",
            "\u001b[0;32m<ipython-input-33-a073ba61c9df>\u001b[0m in \u001b[0;36mmyfunc\u001b[0;34m(x)\u001b[0m\n\u001b[1;32m      2\u001b[0m \u001b[0mx\u001b[0m\u001b[0;34m=\u001b[0m \u001b[0;34m[\u001b[0m\u001b[0;36m15\u001b[0m\u001b[0;34m,\u001b[0m\u001b[0;36m19\u001b[0m\u001b[0;34m,\u001b[0m\u001b[0;36m25\u001b[0m\u001b[0;34m,\u001b[0m\u001b[0;36m23\u001b[0m\u001b[0;34m,\u001b[0m\u001b[0;36m45\u001b[0m\u001b[0;34m]\u001b[0m\u001b[0;34m\u001b[0m\u001b[0;34m\u001b[0m\u001b[0m\n\u001b[1;32m      3\u001b[0m \u001b[0;32mdef\u001b[0m \u001b[0mmyfunc\u001b[0m\u001b[0;34m(\u001b[0m\u001b[0mx\u001b[0m\u001b[0;34m)\u001b[0m\u001b[0;34m:\u001b[0m\u001b[0;34m\u001b[0m\u001b[0;34m\u001b[0m\u001b[0m\n\u001b[0;32m----> 4\u001b[0;31m   \u001b[0;32mif\u001b[0m \u001b[0mx\u001b[0m \u001b[0;34m>\u001b[0m \u001b[0;36m15\u001b[0m\u001b[0;34m:\u001b[0m\u001b[0;34m\u001b[0m\u001b[0;34m\u001b[0m\u001b[0m\n\u001b[0m\u001b[1;32m      5\u001b[0m     \u001b[0;32mreturn\u001b[0m \u001b[0mfalse\u001b[0m\u001b[0;34m\u001b[0m\u001b[0;34m\u001b[0m\u001b[0m\n\u001b[1;32m      6\u001b[0m   \u001b[0;32melse\u001b[0m\u001b[0;34m:\u001b[0m\u001b[0;34m\u001b[0m\u001b[0;34m\u001b[0m\u001b[0m\n",
            "\u001b[0;31mTypeError\u001b[0m: '>' not supported between instances of 'list' and 'int'"
          ]
        }
      ]
    },
    {
      "cell_type": "code",
      "metadata": {
        "id": "9ggld5aNruEv",
        "colab": {
          "base_uri": "https://localhost:8080/"
        },
        "outputId": "8ec0f7f9-9f0a-4ac4-df80-58b9cbd212ba"
      },
      "source": [
        "from google.colab import drive\n",
        "drive.mount('/content/drive')"
      ],
      "execution_count": null,
      "outputs": [
        {
          "output_type": "stream",
          "text": [
            "Mounted at /content/drive\n"
          ],
          "name": "stdout"
        }
      ]
    },
    {
      "cell_type": "code",
      "metadata": {
        "id": "__Yh2p11s-RG",
        "colab": {
          "base_uri": "https://localhost:8080/"
        },
        "outputId": "2d740f7a-f5d0-40a0-9fca-0b6c831e1e60"
      },
      "source": [
        "import pandas as pd\n",
        "path =\"/content/drive/MyDrive/python/bank.csv.txt\"\n",
        "df = pd.read_csv(path)\n",
        "\n",
        "# data is stored as pandas dataframe\n",
        "\n",
        "df.describe"
      ],
      "execution_count": null,
      "outputs": [
        {
          "output_type": "execute_result",
          "data": {
            "text/plain": [
              "<bound method NDFrame.describe of        age          job  marital  education  ... pdays  previous poutcome deposit\n",
              "0       59       admin.  married  secondary  ...    -1         0  unknown     yes\n",
              "1       56       admin.  married  secondary  ...    -1         0  unknown     yes\n",
              "2       41   technician  married  secondary  ...    -1         0  unknown     yes\n",
              "3       55     services  married  secondary  ...    -1         0  unknown     yes\n",
              "4       54       admin.  married   tertiary  ...    -1         0  unknown     yes\n",
              "...    ...          ...      ...        ...  ...   ...       ...      ...     ...\n",
              "11157   33  blue-collar   single    primary  ...    -1         0  unknown      no\n",
              "11158   39     services  married  secondary  ...    -1         0  unknown      no\n",
              "11159   32   technician   single  secondary  ...    -1         0  unknown      no\n",
              "11160   43   technician  married  secondary  ...   172         5  failure      no\n",
              "11161   34   technician  married  secondary  ...    -1         0  unknown      no\n",
              "\n",
              "[11162 rows x 17 columns]>"
            ]
          },
          "metadata": {
            "tags": []
          },
          "execution_count": 4
        }
      ]
    }
  ]
}